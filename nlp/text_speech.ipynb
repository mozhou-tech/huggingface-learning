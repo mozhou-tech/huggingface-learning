{
 "cells": [
  {
   "cell_type": "markdown",
   "source": [
    "https://huggingface.co/coqui/XTTS-v2\n",
    "\n",
    "支持23种语言。"
   ],
   "metadata": {
    "collapsed": false
   },
   "id": "b058b59e9442adfa"
  },
  {
   "cell_type": "code",
   "execution_count": 24,
   "outputs": [
    {
     "name": "stdout",
     "output_type": "stream",
     "text": [
      " > tts_models/multilingual/multi-dataset/xtts_v2 is already downloaded.\n",
      " > Using model: xtts\n",
      " > Text splitted to sentences.\n",
      "['确认的几个点，22和91，90之间的端口是否需要映射     不需要的。', '内网端口默认都是通的']\n",
      " > Processing time: 21.463440895080566\n",
      " > Real-time factor: 1.8900514046985881\n"
     ]
    },
    {
     "data": {
      "text/plain": "'/Users/mozhou/WorkSpace/GitHub/huggingface-learning/nlp/data/output.wav'"
     },
     "execution_count": 24,
     "metadata": {},
     "output_type": "execute_result"
    }
   ],
   "source": [
    "from TTS.api import TTS\n",
    "\n",
    "tts = TTS(\"tts_models/multilingual/multi-dataset/xtts_v2\", gpu=False, progress_bar=True)\n",
    "\n",
    "# generate speech by cloning a voice using default settings\n",
    "tts.tts_to_file(text=\"确认的几个点，22和91，90之间的端口是否需要映射     不需要的。内网端口默认都是通的\",\n",
    "                file_path=\"/Users/mozhou/WorkSpace/GitHub/huggingface-learning/nlp/data/output.wav\",\n",
    "                speaker_wav=\"/Users/mozhou/WorkSpace/GitHub/huggingface-learning/nlp/data/speaker.wav\",  # 声音克隆\n",
    "                language=\"zh-cn\"\n",
    "                )"
   ],
   "metadata": {
    "collapsed": false,
    "ExecuteTime": {
     "end_time": "2023-12-01T08:10:15.260406Z",
     "start_time": "2023-12-01T08:09:27.716370Z"
    }
   },
   "id": "e6d8006042120bc4"
  },
  {
   "cell_type": "code",
   "execution_count": null,
   "outputs": [],
   "source": [],
   "metadata": {
    "collapsed": false
   },
   "id": "6e3cb717a081e0ce"
  }
 ],
 "metadata": {
  "kernelspec": {
   "display_name": "Python 3",
   "language": "python",
   "name": "python3"
  },
  "language_info": {
   "codemirror_mode": {
    "name": "ipython",
    "version": 2
   },
   "file_extension": ".py",
   "mimetype": "text/x-python",
   "name": "python",
   "nbconvert_exporter": "python",
   "pygments_lexer": "ipython2",
   "version": "2.7.6"
  }
 },
 "nbformat": 4,
 "nbformat_minor": 5
}
