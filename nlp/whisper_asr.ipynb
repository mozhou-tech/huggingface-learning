{
 "cells": [
  {
   "cell_type": "markdown",
   "source": [
    "https://huggingface.co/openai/whisper-medium\n"
   ],
   "metadata": {
    "collapsed": false
   },
   "id": "76fa23a823b03e94"
  },
  {
   "cell_type": "code",
   "execution_count": null,
   "outputs": [],
   "source": [
    "import torch\n",
    "from transformers import pipeline\n",
    "from datasets import load_dataset\n",
    "\n",
    "device = \"cuda:0\" if torch.cuda.is_available() else \"cpu\"\n",
    "\n",
    "pipe = pipeline(\n",
    "    \"automatic-speech-recognition\",\n",
    "    model=\"openai/whisper-medium\",\n",
    "    chunk_length_s=30,\n",
    "    device=device,\n",
    ")\n",
    "\n",
    "ds = load_dataset(\"hf-internal-testing/librispeech_asr_dummy\", \"clean\", split=\"validation\")\n",
    "sample = ds[0][\"audio\"]\n",
    "\n",
    "prediction = pipe(sample.copy(), batch_size=8)[\"text\"]\n",
    "\n",
    "# we can also return timestamps for the predictions\n",
    "prediction = pipe(sample.copy(), batch_size=8, return_timestamps=True)[\"chunks\"]\n"
   ],
   "metadata": {
    "collapsed": false
   },
   "id": "initial_id"
  }
 ],
 "metadata": {
  "kernelspec": {
   "display_name": "Python 3",
   "language": "python",
   "name": "python3"
  },
  "language_info": {
   "codemirror_mode": {
    "name": "ipython",
    "version": 2
   },
   "file_extension": ".py",
   "mimetype": "text/x-python",
   "name": "python",
   "nbconvert_exporter": "python",
   "pygments_lexer": "ipython2",
   "version": "2.7.6"
  }
 },
 "nbformat": 4,
 "nbformat_minor": 5
}
