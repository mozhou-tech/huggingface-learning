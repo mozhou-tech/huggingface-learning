{
 "cells": [
  {
   "cell_type": "markdown",
   "source": [
    "https://www.modelscope.cn/models/damo/cv_cspnet_image-object-detection_yolox_nano_coco/summary"
   ],
   "metadata": {
    "collapsed": false
   },
   "id": "a2ced2a6fc0e0e71"
  },
  {
   "cell_type": "code",
   "execution_count": 1,
   "outputs": [
    {
     "name": "stderr",
     "output_type": "stream",
     "text": [
      "2023-12-01 13:36:47,529 - modelscope - INFO - PyTorch version 2.1.1 Found.\n",
      "2023-12-01 13:36:47,531 - modelscope - INFO - Loading ast index from /Users/mozhou/.cache/modelscope/ast_indexer\n",
      "2023-12-01 13:36:47,594 - modelscope - INFO - Loading done! Current index file version is 1.9.5, with md5 82991d019ad19ec9828cbbc8261a746e and a total number of 945 components indexed\n",
      "2023-12-01 13:36:49,159 - modelscope - WARNING - Model revision not specified, use revision: v2.0.0\n",
      "Downloading: 100%|██████████| 94.5k/94.5k [00:00<00:00, 1.11MB/s]\n",
      "Downloading: 100%|██████████| 157k/157k [00:00<00:00, 1.58MB/s]\n",
      "Downloading: 100%|██████████| 20.6k/20.6k [00:00<00:00, 549kB/s]\n",
      "Downloading: 100%|██████████| 2.09M/2.09M [00:00<00:00, 7.90MB/s]\n",
      "Downloading: 100%|██████████| 390k/390k [00:00<00:00, 1.94MB/s]\n",
      "Downloading: 100%|██████████| 7.34M/7.34M [00:04<00:00, 1.66MB/s]\n",
      "Downloading: 100%|██████████| 17.4M/17.4M [00:12<00:00, 1.47MB/s]\n",
      "Downloading: 100%|██████████| 5.36k/5.36k [00:00<00:00, 490kB/s]\n",
      "Downloading: 100%|██████████| 243k/243k [00:00<00:00, 1.50MB/s]\n",
      "Downloading: 100%|██████████| 103k/103k [00:00<00:00, 843kB/s]\n"
     ]
    },
    {
     "data": {
      "text/plain": "Looking in indexes: https://pypi.tuna.tsinghua.edu.cn/simple\nLooking in links: https://modelscope.oss-cn-beijing.aliyuncs.com/releases/repo.html, https://modelscope.oss-cn-beijing.aliyuncs.com/releases/repo.html\n",
      "text/html": "<pre style=\"white-space:pre;overflow-x:auto;line-height:normal;font-family:Menlo,'DejaVu Sans Mono',consolas,'Courier New',monospace\">Looking in indexes: https://pypi.tuna.tsinghua.edu.cn/simple\nLooking in links: https://modelscope.oss-cn-beijing.aliyuncs.com/releases/repo.html, https://modelscope.oss-cn-beijing.aliyuncs.com/releases/repo.html\n</pre>\n"
     },
     "metadata": {},
     "output_type": "display_data"
    },
    {
     "data": {
      "text/plain": "Collecting pai-easycv>=0.11.0\n",
      "text/html": "<pre style=\"white-space:pre;overflow-x:auto;line-height:normal;font-family:Menlo,'DejaVu Sans Mono',consolas,'Courier New',monospace\">Collecting pai-easycv&gt;=0.11.0\n</pre>\n"
     },
     "metadata": {},
     "output_type": "display_data"
    },
    {
     "data": {
      "text/plain": "  Downloading https://pypi.tuna.tsinghua.edu.cn/packages/ca/e4/c84d5d930ed0b0e5b27dbd9dad2b08a879aeb0290f6c3eaa7e2c49f8d21c/pai_easycv-0.11.6-py3-none-any.whl (6.8 MB)\n",
      "text/html": "<pre style=\"white-space:pre;overflow-x:auto;line-height:normal;font-family:Menlo,'DejaVu Sans Mono',consolas,'Courier New',monospace\">  Downloading https://pypi.tuna.tsinghua.edu.cn/packages/ca/e4/c84d5d930ed0b0e5b27dbd9dad2b08a879aeb0290f6c3eaa7e2c49f8d21c/pai_easycv-0.11.6-py3-none-any.whl (6.8 MB)\n</pre>\n"
     },
     "metadata": {},
     "output_type": "display_data"
    },
    {
     "data": {
      "text/plain": "Output()",
      "application/vnd.jupyter.widget-view+json": {
       "version_major": 2,
       "version_minor": 0,
       "model_id": "f2f23e801d724d588e4d74b0780e3189"
      }
     },
     "metadata": {},
     "output_type": "display_data"
    },
    {
     "data": {
      "text/plain": "",
      "text/html": "<pre style=\"white-space:pre;overflow-x:auto;line-height:normal;font-family:Menlo,'DejaVu Sans Mono',consolas,'Courier New',monospace\"></pre>\n"
     },
     "metadata": {},
     "output_type": "display_data"
    },
    {
     "data": {
      "text/plain": "\n",
      "text/html": "<pre style=\"white-space:pre;overflow-x:auto;line-height:normal;font-family:Menlo,'DejaVu Sans Mono',consolas,'Courier New',monospace\">\n</pre>\n"
     },
     "metadata": {},
     "output_type": "display_data"
    },
    {
     "data": {
      "text/plain": "Collecting albumentations (from pai-easycv>=0.11.0)\n",
      "text/html": "<pre style=\"white-space:pre;overflow-x:auto;line-height:normal;font-family:Menlo,'DejaVu Sans Mono',consolas,'Courier New',monospace\">Collecting albumentations (from pai-easycv&gt;=0.11.0)\n</pre>\n"
     },
     "metadata": {},
     "output_type": "display_data"
    },
    {
     "data": {
      "text/plain": "  Downloading https://pypi.tuna.tsinghua.edu.cn/packages/9b/f6/c486cedb4f75147232f32ec4c97026714cfef7c7e247a1f0427bc5489f66/albumentations-1.3.1-py3-none-any.whl (125 kB)\n",
      "text/html": "<pre style=\"white-space:pre;overflow-x:auto;line-height:normal;font-family:Menlo,'DejaVu Sans Mono',consolas,'Courier New',monospace\">  Downloading https://pypi.tuna.tsinghua.edu.cn/packages/9b/f6/c486cedb4f75147232f32ec4c97026714cfef7c7e247a1f0427bc5489f66/albumentations-1.3.1-py3-none-any.whl (125 kB)\n</pre>\n"
     },
     "metadata": {},
     "output_type": "display_data"
    },
    {
     "data": {
      "text/plain": "Output()",
      "application/vnd.jupyter.widget-view+json": {
       "version_major": 2,
       "version_minor": 0,
       "model_id": "a41e174bfa7c419082bca1b2346d6a0a"
      }
     },
     "metadata": {},
     "output_type": "display_data"
    },
    {
     "data": {
      "text/plain": "",
      "text/html": "<pre style=\"white-space:pre;overflow-x:auto;line-height:normal;font-family:Menlo,'DejaVu Sans Mono',consolas,'Courier New',monospace\"></pre>\n"
     },
     "metadata": {},
     "output_type": "display_data"
    },
    {
     "data": {
      "text/plain": "\n",
      "text/html": "<pre style=\"white-space:pre;overflow-x:auto;line-height:normal;font-family:Menlo,'DejaVu Sans Mono',consolas,'Courier New',monospace\">\n</pre>\n"
     },
     "metadata": {},
     "output_type": "display_data"
    },
    {
     "data": {
      "text/plain": "Collecting cityscapesscripts (from pai-easycv>=0.11.0)\n",
      "text/html": "<pre style=\"white-space:pre;overflow-x:auto;line-height:normal;font-family:Menlo,'DejaVu Sans Mono',consolas,'Courier New',monospace\">Collecting cityscapesscripts (from pai-easycv&gt;=0.11.0)\n</pre>\n"
     },
     "metadata": {},
     "output_type": "display_data"
    },
    {
     "data": {
      "text/plain": "  Downloading https://pypi.tuna.tsinghua.edu.cn/packages/f0/7b/ffabff08a7ac18c175b6a5411fe6aca7c32fdea3e4bcbfe9a259e4830021/cityscapesScripts-2.2.2-py3-none-any.whl (473 kB)\n",
      "text/html": "<pre style=\"white-space:pre;overflow-x:auto;line-height:normal;font-family:Menlo,'DejaVu Sans Mono',consolas,'Courier New',monospace\">  Downloading https://pypi.tuna.tsinghua.edu.cn/packages/f0/7b/ffabff08a7ac18c175b6a5411fe6aca7c32fdea3e4bcbfe9a259e4830021/cityscapesScripts-2.2.2-py3-none-any.whl (473 kB)\n</pre>\n"
     },
     "metadata": {},
     "output_type": "display_data"
    },
    {
     "data": {
      "text/plain": "Output()",
      "application/vnd.jupyter.widget-view+json": {
       "version_major": 2,
       "version_minor": 0,
       "model_id": "410b1a46ed524f4eb39cd38c84a34ed4"
      }
     },
     "metadata": {},
     "output_type": "display_data"
    },
    {
     "data": {
      "text/plain": "",
      "text/html": "<pre style=\"white-space:pre;overflow-x:auto;line-height:normal;font-family:Menlo,'DejaVu Sans Mono',consolas,'Courier New',monospace\"></pre>\n"
     },
     "metadata": {},
     "output_type": "display_data"
    },
    {
     "data": {
      "text/plain": "\n",
      "text/html": "<pre style=\"white-space:pre;overflow-x:auto;line-height:normal;font-family:Menlo,'DejaVu Sans Mono',consolas,'Courier New',monospace\">\n</pre>\n"
     },
     "metadata": {},
     "output_type": "display_data"
    },
    {
     "data": {
      "text/plain": "Collecting dataclasses (from pai-easycv>=0.11.0)\n",
      "text/html": "<pre style=\"white-space:pre;overflow-x:auto;line-height:normal;font-family:Menlo,'DejaVu Sans Mono',consolas,'Courier New',monospace\">Collecting dataclasses (from pai-easycv&gt;=0.11.0)\n</pre>\n"
     },
     "metadata": {},
     "output_type": "display_data"
    },
    {
     "data": {
      "text/plain": "  Downloading https://pypi.tuna.tsinghua.edu.cn/packages/26/2f/1095cdc2868052dd1e64520f7c0d5c8c550ad297e944e641dbf1ffbb9a5d/dataclasses-0.6-py3-none-any.whl (14 kB)\n",
      "text/html": "<pre style=\"white-space:pre;overflow-x:auto;line-height:normal;font-family:Menlo,'DejaVu Sans Mono',consolas,'Courier New',monospace\">  Downloading https://pypi.tuna.tsinghua.edu.cn/packages/26/2f/1095cdc2868052dd1e64520f7c0d5c8c550ad297e944e641dbf1ffbb9a5d/dataclasses-0.6-py3-none-any.whl (14 kB)\n</pre>\n"
     },
     "metadata": {},
     "output_type": "display_data"
    },
    {
     "data": {
      "text/plain": "INFO: pip is looking at multiple versions of pai-easycv to determine which version is compatible with other requirements. This could take a while.\n",
      "text/html": "<pre style=\"white-space:pre;overflow-x:auto;line-height:normal;font-family:Menlo,'DejaVu Sans Mono',consolas,'Courier New',monospace\">INFO: pip is looking at multiple versions of pai-easycv to determine which version is compatible with other requirements. This could take a while.\n</pre>\n"
     },
     "metadata": {},
     "output_type": "display_data"
    },
    {
     "data": {
      "text/plain": "Collecting pai-easycv>=0.11.0\n",
      "text/html": "<pre style=\"white-space:pre;overflow-x:auto;line-height:normal;font-family:Menlo,'DejaVu Sans Mono',consolas,'Courier New',monospace\">Collecting pai-easycv&gt;=0.11.0\n</pre>\n"
     },
     "metadata": {},
     "output_type": "display_data"
    },
    {
     "data": {
      "text/plain": "  Downloading https://pypi.tuna.tsinghua.edu.cn/packages/35/26/5ded8ce007564490a6a28db4cb71e3b08fcd4251f5ffda171e45eeb7bdf6/pai_easycv-0.11.5-py3-none-any.whl (6.8 MB)\n",
      "text/html": "<pre style=\"white-space:pre;overflow-x:auto;line-height:normal;font-family:Menlo,'DejaVu Sans Mono',consolas,'Courier New',monospace\">  Downloading https://pypi.tuna.tsinghua.edu.cn/packages/35/26/5ded8ce007564490a6a28db4cb71e3b08fcd4251f5ffda171e45eeb7bdf6/pai_easycv-0.11.5-py3-none-any.whl (6.8 MB)\n</pre>\n"
     },
     "metadata": {},
     "output_type": "display_data"
    },
    {
     "data": {
      "text/plain": "Output()",
      "application/vnd.jupyter.widget-view+json": {
       "version_major": 2,
       "version_minor": 0,
       "model_id": "8c05c24738964eca89be4db4cb28a3bf"
      }
     },
     "metadata": {},
     "output_type": "display_data"
    },
    {
     "data": {
      "text/plain": "",
      "text/html": "<pre style=\"white-space:pre;overflow-x:auto;line-height:normal;font-family:Menlo,'DejaVu Sans Mono',consolas,'Courier New',monospace\"></pre>\n"
     },
     "metadata": {},
     "output_type": "display_data"
    },
    {
     "data": {
      "text/plain": "\n",
      "text/html": "<pre style=\"white-space:pre;overflow-x:auto;line-height:normal;font-family:Menlo,'DejaVu Sans Mono',consolas,'Courier New',monospace\">\n</pre>\n"
     },
     "metadata": {},
     "output_type": "display_data"
    },
    {
     "data": {
      "text/plain": "  Downloading https://pypi.tuna.tsinghua.edu.cn/packages/ed/2d/284dd3483050d943ac86074e1c0acbe7df5e63abcaf7f5ae664b5b72c7e6/pai_easycv-0.11.4-py3-none-any.whl (6.8 MB)\n",
      "text/html": "<pre style=\"white-space:pre;overflow-x:auto;line-height:normal;font-family:Menlo,'DejaVu Sans Mono',consolas,'Courier New',monospace\">  Downloading https://pypi.tuna.tsinghua.edu.cn/packages/ed/2d/284dd3483050d943ac86074e1c0acbe7df5e63abcaf7f5ae664b5b72c7e6/pai_easycv-0.11.4-py3-none-any.whl (6.8 MB)\n</pre>\n"
     },
     "metadata": {},
     "output_type": "display_data"
    },
    {
     "data": {
      "text/plain": "Output()",
      "application/vnd.jupyter.widget-view+json": {
       "version_major": 2,
       "version_minor": 0,
       "model_id": "30ccb14233a64a0fbe3a07d7ea22579e"
      }
     },
     "metadata": {},
     "output_type": "display_data"
    },
    {
     "data": {
      "text/plain": "",
      "text/html": "<pre style=\"white-space:pre;overflow-x:auto;line-height:normal;font-family:Menlo,'DejaVu Sans Mono',consolas,'Courier New',monospace\"></pre>\n"
     },
     "metadata": {},
     "output_type": "display_data"
    },
    {
     "data": {
      "text/plain": "\n",
      "text/html": "<pre style=\"white-space:pre;overflow-x:auto;line-height:normal;font-family:Menlo,'DejaVu Sans Mono',consolas,'Courier New',monospace\">\n</pre>\n"
     },
     "metadata": {},
     "output_type": "display_data"
    },
    {
     "data": {
      "text/plain": "  Downloading https://pypi.tuna.tsinghua.edu.cn/packages/ac/2f/43430a06159614c8d63d9a75fc514aaac93adc91d562c398a3db22fcd032/pai_easycv-0.11.3-py3-none-any.whl (6.8 MB)\n",
      "text/html": "<pre style=\"white-space:pre;overflow-x:auto;line-height:normal;font-family:Menlo,'DejaVu Sans Mono',consolas,'Courier New',monospace\">  Downloading https://pypi.tuna.tsinghua.edu.cn/packages/ac/2f/43430a06159614c8d63d9a75fc514aaac93adc91d562c398a3db22fcd032/pai_easycv-0.11.3-py3-none-any.whl (6.8 MB)\n</pre>\n"
     },
     "metadata": {},
     "output_type": "display_data"
    },
    {
     "data": {
      "text/plain": "Output()",
      "application/vnd.jupyter.widget-view+json": {
       "version_major": 2,
       "version_minor": 0,
       "model_id": "5712b09f9f734c08b807a9f6244b9914"
      }
     },
     "metadata": {},
     "output_type": "display_data"
    },
    {
     "data": {
      "text/plain": "",
      "text/html": "<pre style=\"white-space:pre;overflow-x:auto;line-height:normal;font-family:Menlo,'DejaVu Sans Mono',consolas,'Courier New',monospace\"></pre>\n"
     },
     "metadata": {},
     "output_type": "display_data"
    },
    {
     "data": {
      "text/plain": "\n",
      "text/html": "<pre style=\"white-space:pre;overflow-x:auto;line-height:normal;font-family:Menlo,'DejaVu Sans Mono',consolas,'Courier New',monospace\">\n</pre>\n"
     },
     "metadata": {},
     "output_type": "display_data"
    },
    {
     "data": {
      "text/plain": "  Downloading https://pypi.tuna.tsinghua.edu.cn/packages/1b/08/826626d7b4a34fea840563ba602267d412bc5949c20e6587d2e5229c2a2d/pai_easycv-0.11.2-py3-none-any.whl (6.8 MB)\n",
      "text/html": "<pre style=\"white-space:pre;overflow-x:auto;line-height:normal;font-family:Menlo,'DejaVu Sans Mono',consolas,'Courier New',monospace\">  Downloading https://pypi.tuna.tsinghua.edu.cn/packages/1b/08/826626d7b4a34fea840563ba602267d412bc5949c20e6587d2e5229c2a2d/pai_easycv-0.11.2-py3-none-any.whl (6.8 MB)\n</pre>\n"
     },
     "metadata": {},
     "output_type": "display_data"
    },
    {
     "data": {
      "text/plain": "Output()",
      "application/vnd.jupyter.widget-view+json": {
       "version_major": 2,
       "version_minor": 0,
       "model_id": "827abd4fee2a4f948a5d6e51c9065ab1"
      }
     },
     "metadata": {},
     "output_type": "display_data"
    },
    {
     "data": {
      "text/plain": "",
      "text/html": "<pre style=\"white-space:pre;overflow-x:auto;line-height:normal;font-family:Menlo,'DejaVu Sans Mono',consolas,'Courier New',monospace\"></pre>\n"
     },
     "metadata": {},
     "output_type": "display_data"
    },
    {
     "data": {
      "text/plain": "\n",
      "text/html": "<pre style=\"white-space:pre;overflow-x:auto;line-height:normal;font-family:Menlo,'DejaVu Sans Mono',consolas,'Courier New',monospace\">\n</pre>\n"
     },
     "metadata": {},
     "output_type": "display_data"
    },
    {
     "data": {
      "text/plain": "  Downloading https://pypi.tuna.tsinghua.edu.cn/packages/c1/7c/11b64ed5a2dd603fe19070002862f657fd46f419d2920e9756576686b437/pai_easycv-0.11.1-py3-none-any.whl (6.8 MB)\n",
      "text/html": "<pre style=\"white-space:pre;overflow-x:auto;line-height:normal;font-family:Menlo,'DejaVu Sans Mono',consolas,'Courier New',monospace\">  Downloading https://pypi.tuna.tsinghua.edu.cn/packages/c1/7c/11b64ed5a2dd603fe19070002862f657fd46f419d2920e9756576686b437/pai_easycv-0.11.1-py3-none-any.whl (6.8 MB)\n</pre>\n"
     },
     "metadata": {},
     "output_type": "display_data"
    },
    {
     "data": {
      "text/plain": "Output()",
      "application/vnd.jupyter.widget-view+json": {
       "version_major": 2,
       "version_minor": 0,
       "model_id": "3a11b4cbb85f4b2086ea09313cf7c85d"
      }
     },
     "metadata": {},
     "output_type": "display_data"
    },
    {
     "data": {
      "text/plain": "",
      "text/html": "<pre style=\"white-space:pre;overflow-x:auto;line-height:normal;font-family:Menlo,'DejaVu Sans Mono',consolas,'Courier New',monospace\"></pre>\n"
     },
     "metadata": {},
     "output_type": "display_data"
    },
    {
     "data": {
      "text/plain": "\n",
      "text/html": "<pre style=\"white-space:pre;overflow-x:auto;line-height:normal;font-family:Menlo,'DejaVu Sans Mono',consolas,'Courier New',monospace\">\n</pre>\n"
     },
     "metadata": {},
     "output_type": "display_data"
    },
    {
     "data": {
      "text/plain": "  Downloading https://pypi.tuna.tsinghua.edu.cn/packages/c9/9f/1b6c08ab3290aff2623bdc1eb66551933ebad7b3c48c550ae0ba8f3273fc/pai_easycv-0.11.0-py3-none-any.whl (6.8 MB)\n",
      "text/html": "<pre style=\"white-space:pre;overflow-x:auto;line-height:normal;font-family:Menlo,'DejaVu Sans Mono',consolas,'Courier New',monospace\">  Downloading https://pypi.tuna.tsinghua.edu.cn/packages/c9/9f/1b6c08ab3290aff2623bdc1eb66551933ebad7b3c48c550ae0ba8f3273fc/pai_easycv-0.11.0-py3-none-any.whl (6.8 MB)\n</pre>\n"
     },
     "metadata": {},
     "output_type": "display_data"
    },
    {
     "data": {
      "text/plain": "Output()",
      "application/vnd.jupyter.widget-view+json": {
       "version_major": 2,
       "version_minor": 0,
       "model_id": "1f066f38a63a4aa7bbe41569a2b78aa6"
      }
     },
     "metadata": {},
     "output_type": "display_data"
    },
    {
     "data": {
      "text/plain": "",
      "text/html": "<pre style=\"white-space:pre;overflow-x:auto;line-height:normal;font-family:Menlo,'DejaVu Sans Mono',consolas,'Courier New',monospace\"></pre>\n"
     },
     "metadata": {},
     "output_type": "display_data"
    },
    {
     "data": {
      "text/plain": "\n",
      "text/html": "<pre style=\"white-space:pre;overflow-x:auto;line-height:normal;font-family:Menlo,'DejaVu Sans Mono',consolas,'Courier New',monospace\">\n</pre>\n"
     },
     "metadata": {},
     "output_type": "display_data"
    },
    {
     "data": {
      "text/plain": "\u001B[31mERROR: Cannot install pai-easycv==0.11.0, pai-easycv==0.11.1, pai-easycv==0.11.2, pai-easycv==0.11.3, pai-easycv==0.11.4, pai-easycv==0.11.5 and pai-easycv==0.11.6 because these package versions have conflicting dependencies.\u001B[0m\u001B[31m\n\u001B[0m",
      "text/html": "<pre style=\"white-space:pre;overflow-x:auto;line-height:normal;font-family:Menlo,'DejaVu Sans Mono',consolas,'Courier New',monospace\"><span style=\"color: #800000; text-decoration-color: #800000\">ERROR: Cannot install pai-easycv==0.11.0, pai-easycv==0.11.1, pai-easycv==0.11.2, pai-easycv==0.11.3, pai-easycv==0.11.4, pai-easycv==0.11.5 and pai-easycv==0.11.6 because these package versions have conflicting dependencies.\n</span></pre>\n"
     },
     "metadata": {},
     "output_type": "display_data"
    },
    {
     "data": {
      "text/plain": "\nThe conflict is caused by:\n    pai-easycv 0.11.6 depends on decord\n    pai-easycv 0.11.5 depends on decord\n    pai-easycv 0.11.4 depends on decord\n    pai-easycv 0.11.3 depends on decord\n    pai-easycv 0.11.2 depends on decord\n    pai-easycv 0.11.1 depends on decord\n    pai-easycv 0.11.0 depends on decord\n\nTo fix this you could try to:\n1. loosen the range of package versions you've specified\n2. remove package versions to allow pip attempt to solve the dependency conflict\n\n",
      "text/html": "<pre style=\"white-space:pre;overflow-x:auto;line-height:normal;font-family:Menlo,'DejaVu Sans Mono',consolas,'Courier New',monospace\">\nThe conflict is caused by:\n    pai-easycv 0.11.6 depends on decord\n    pai-easycv 0.11.5 depends on decord\n    pai-easycv 0.11.4 depends on decord\n    pai-easycv 0.11.3 depends on decord\n    pai-easycv 0.11.2 depends on decord\n    pai-easycv 0.11.1 depends on decord\n    pai-easycv 0.11.0 depends on decord\n\nTo fix this you could try to:\n1. loosen the range of package versions you've specified\n2. remove package versions to allow pip attempt to solve the dependency conflict\n\n</pre>\n"
     },
     "metadata": {},
     "output_type": "display_data"
    },
    {
     "data": {
      "text/plain": "\u001B[31mERROR: ResolutionImpossible: for help visit https://pip.pypa.io/en/latest/topics/dependency-resolution/#dealing-with-dependency-conflicts\u001B[0m\u001B[31m\n\u001B[0m",
      "text/html": "<pre style=\"white-space:pre;overflow-x:auto;line-height:normal;font-family:Menlo,'DejaVu Sans Mono',consolas,'Courier New',monospace\"><span style=\"color: #800000; text-decoration-color: #800000\">ERROR: ResolutionImpossible: for help visit https://pip.pypa.io/en/latest/topics/dependency-resolution/#dealing-with-dependency-conflicts\n</span></pre>\n"
     },
     "metadata": {},
     "output_type": "display_data"
    },
    {
     "ename": "OSError",
     "evalue": "[Errno The required packages pai-easycv>=0.11.0,-f,https://modelscope.oss-cn-beijing.aliyuncs.com/releases/repo.html are not installed.] Please run the command `modelscope plugin install pai-easycv>=0.11.0 -f https://modelscope.oss-cn-beijing.aliyuncs.com/releases/repo.html` to install them.",
     "output_type": "error",
     "traceback": [
      "\u001B[0;31m---------------------------------------------------------------------------\u001B[0m",
      "\u001B[0;31mOSError\u001B[0m                                   Traceback (most recent call last)",
      "Cell \u001B[0;32mIn[1], line 6\u001B[0m\n\u001B[1;32m      3\u001B[0m \u001B[38;5;28;01mfrom\u001B[39;00m \u001B[38;5;21;01mmodelscope\u001B[39;00m\u001B[38;5;21;01m.\u001B[39;00m\u001B[38;5;21;01mutils\u001B[39;00m\u001B[38;5;21;01m.\u001B[39;00m\u001B[38;5;21;01mconstant\u001B[39;00m \u001B[38;5;28;01mimport\u001B[39;00m Tasks\n\u001B[1;32m      4\u001B[0m \u001B[38;5;28;01mfrom\u001B[39;00m \u001B[38;5;21;01mmodelscope\u001B[39;00m\u001B[38;5;21;01m.\u001B[39;00m\u001B[38;5;21;01moutputs\u001B[39;00m \u001B[38;5;28;01mimport\u001B[39;00m OutputKeys\n\u001B[0;32m----> 6\u001B[0m realtime_detector \u001B[38;5;241m=\u001B[39m \u001B[43mpipeline\u001B[49m\u001B[43m(\u001B[49m\u001B[43mTasks\u001B[49m\u001B[38;5;241;43m.\u001B[39;49m\u001B[43mimage_object_detection\u001B[49m\u001B[43m,\u001B[49m\u001B[43m \u001B[49m\u001B[43mmodel\u001B[49m\u001B[38;5;241;43m=\u001B[39;49m\u001B[38;5;124;43m'\u001B[39;49m\u001B[38;5;124;43mdamo/cv_cspnet_image-object-detection_yolox_nano_coco\u001B[39;49m\u001B[38;5;124;43m'\u001B[39;49m\u001B[43m)\u001B[49m\n\u001B[1;32m      7\u001B[0m result \u001B[38;5;241m=\u001B[39m realtime_detector(\u001B[38;5;124m'\u001B[39m\u001B[38;5;124mhttps://modelscope.oss-cn-beijing.aliyuncs.com/test/images/keypoints_detect/000000438862.jpg\u001B[39m\u001B[38;5;124m'\u001B[39m)\n\u001B[1;32m      8\u001B[0m \u001B[38;5;66;03m# bbox\u001B[39;00m\n",
      "File \u001B[0;32m~/Library/Caches/pypoetry/virtualenvs/huggingface-learning-R1GBXbBC-py3.11/lib/python3.11/site-packages/modelscope/pipelines/builder.py:135\u001B[0m, in \u001B[0;36mpipeline\u001B[0;34m(task, model, preprocessor, config_file, pipeline_name, framework, device, model_revision, ignore_file_pattern, **kwargs)\u001B[0m\n\u001B[1;32m    130\u001B[0m cfg \u001B[38;5;241m=\u001B[39m read_config(\n\u001B[1;32m    131\u001B[0m     model, revision\u001B[38;5;241m=\u001B[39mmodel_revision) \u001B[38;5;28;01mif\u001B[39;00m \u001B[38;5;28misinstance\u001B[39m(\n\u001B[1;32m    132\u001B[0m         model, \u001B[38;5;28mstr\u001B[39m) \u001B[38;5;28;01melse\u001B[39;00m read_config(\n\u001B[1;32m    133\u001B[0m             model[\u001B[38;5;241m0\u001B[39m], revision\u001B[38;5;241m=\u001B[39mmodel_revision)\n\u001B[1;32m    134\u001B[0m check_config(cfg)\n\u001B[0;32m--> 135\u001B[0m \u001B[43mregister_plugins_repo\u001B[49m\u001B[43m(\u001B[49m\u001B[43mcfg\u001B[49m\u001B[38;5;241;43m.\u001B[39;49m\u001B[43msafe_get\u001B[49m\u001B[43m(\u001B[49m\u001B[38;5;124;43m'\u001B[39;49m\u001B[38;5;124;43mplugins\u001B[39;49m\u001B[38;5;124;43m'\u001B[39;49m\u001B[43m)\u001B[49m\u001B[43m)\u001B[49m\n\u001B[1;32m    136\u001B[0m register_modelhub_repo(model, cfg\u001B[38;5;241m.\u001B[39mget(\u001B[38;5;124m'\u001B[39m\u001B[38;5;124mallow_remote\u001B[39m\u001B[38;5;124m'\u001B[39m, \u001B[38;5;28;01mFalse\u001B[39;00m))\n\u001B[1;32m    137\u001B[0m pipeline_props \u001B[38;5;241m=\u001B[39m cfg\u001B[38;5;241m.\u001B[39mpipeline\n",
      "File \u001B[0;32m~/Library/Caches/pypoetry/virtualenvs/huggingface-learning-R1GBXbBC-py3.11/lib/python3.11/site-packages/modelscope/utils/plugins.py:443\u001B[0m, in \u001B[0;36mregister_plugins_repo\u001B[0;34m(plugins)\u001B[0m\n\u001B[1;32m    441\u001B[0m \u001B[38;5;250m\u001B[39m\u001B[38;5;124;03m\"\"\" Try to install and import plugins from repo\"\"\"\u001B[39;00m\n\u001B[1;32m    442\u001B[0m \u001B[38;5;28;01mif\u001B[39;00m plugins \u001B[38;5;129;01mis\u001B[39;00m \u001B[38;5;129;01mnot\u001B[39;00m \u001B[38;5;28;01mNone\u001B[39;00m:\n\u001B[0;32m--> 443\u001B[0m     \u001B[43minstall_requirements_by_names\u001B[49m\u001B[43m(\u001B[49m\u001B[43mplugins\u001B[49m\u001B[43m)\u001B[49m\n\u001B[1;32m    444\u001B[0m     modules \u001B[38;5;241m=\u001B[39m []\n\u001B[1;32m    445\u001B[0m     \u001B[38;5;28;01mfor\u001B[39;00m plugin \u001B[38;5;129;01min\u001B[39;00m plugins:\n",
      "File \u001B[0;32m~/Library/Caches/pypoetry/virtualenvs/huggingface-learning-R1GBXbBC-py3.11/lib/python3.11/site-packages/modelscope/utils/plugins.py:421\u001B[0m, in \u001B[0;36minstall_requirements_by_names\u001B[0;34m(plugins)\u001B[0m\n\u001B[1;32m    419\u001B[0m status, _ \u001B[38;5;241m=\u001B[39m plugins_manager\u001B[38;5;241m.\u001B[39minstall_plugins(uninstalled_plugins)\n\u001B[1;32m    420\u001B[0m \u001B[38;5;28;01mif\u001B[39;00m status \u001B[38;5;241m!=\u001B[39m \u001B[38;5;241m0\u001B[39m:\n\u001B[0;32m--> 421\u001B[0m     \u001B[38;5;28;01mraise\u001B[39;00m \u001B[38;5;167;01mEnvironmentError\u001B[39;00m(\n\u001B[1;32m    422\u001B[0m         \u001B[38;5;124mf\u001B[39m\u001B[38;5;124m'\u001B[39m\u001B[38;5;124mThe required packages \u001B[39m\u001B[38;5;132;01m{\u001B[39;00m\u001B[38;5;124m\"\u001B[39m\u001B[38;5;124m,\u001B[39m\u001B[38;5;124m\"\u001B[39m\u001B[38;5;241m.\u001B[39mjoin(uninstalled_plugins)\u001B[38;5;132;01m}\u001B[39;00m\u001B[38;5;124m are not installed.\u001B[39m\u001B[38;5;124m'\u001B[39m,\n\u001B[1;32m    423\u001B[0m         \u001B[38;5;124mf\u001B[39m\u001B[38;5;124m'\u001B[39m\u001B[38;5;124mPlease run the command `modelscope plugin install \u001B[39m\u001B[38;5;132;01m{\u001B[39;00m\u001B[38;5;124m\"\u001B[39m\u001B[38;5;124m \u001B[39m\u001B[38;5;124m\"\u001B[39m\u001B[38;5;241m.\u001B[39mjoin(uninstalled_plugins)\u001B[38;5;132;01m}\u001B[39;00m\u001B[38;5;124m` to install them.\u001B[39m\u001B[38;5;124m'\u001B[39m\n\u001B[1;32m    424\u001B[0m     )\n",
      "\u001B[0;31mOSError\u001B[0m: [Errno The required packages pai-easycv>=0.11.0,-f,https://modelscope.oss-cn-beijing.aliyuncs.com/releases/repo.html are not installed.] Please run the command `modelscope plugin install pai-easycv>=0.11.0 -f https://modelscope.oss-cn-beijing.aliyuncs.com/releases/repo.html` to install them."
     ]
    }
   ],
   "source": [
    "import cv2\n",
    "from modelscope.pipelines import pipeline\n",
    "from modelscope.utils.constant import Tasks\n",
    "from modelscope.outputs import OutputKeys\n",
    "\n",
    "realtime_detector = pipeline(Tasks.image_object_detection, model='damo/cv_cspnet_image-object-detection_yolox_nano_coco')\n",
    "result = realtime_detector('https://modelscope.oss-cn-beijing.aliyuncs.com/test/images/keypoints_detect/000000438862.jpg')\n",
    "# bbox\n",
    "print(result)"
   ],
   "metadata": {
    "collapsed": false,
    "ExecuteTime": {
     "end_time": "2023-12-01T05:37:47.449868Z",
     "start_time": "2023-12-01T05:36:45.854807Z"
    }
   },
   "id": "34e53f3ff3c67531"
  },
  {
   "cell_type": "code",
   "execution_count": null,
   "outputs": [],
   "source": [],
   "metadata": {
    "collapsed": false
   },
   "id": "832a937aa0bb49cb"
  }
 ],
 "metadata": {
  "kernelspec": {
   "display_name": "Python 3",
   "language": "python",
   "name": "python3"
  },
  "language_info": {
   "codemirror_mode": {
    "name": "ipython",
    "version": 2
   },
   "file_extension": ".py",
   "mimetype": "text/x-python",
   "name": "python",
   "nbconvert_exporter": "python",
   "pygments_lexer": "ipython2",
   "version": "2.7.6"
  }
 },
 "nbformat": 4,
 "nbformat_minor": 5
}
