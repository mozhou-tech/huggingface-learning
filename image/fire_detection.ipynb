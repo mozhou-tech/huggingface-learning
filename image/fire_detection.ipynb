{
 "cells": [
  {
   "cell_type": "code",
   "execution_count": null,
   "id": "initial_id",
   "metadata": {
    "collapsed": true
   },
   "outputs": [],
   "source": [
    "from modelscope.pipelines import pipeline\n",
    "\n",
    "fire_detection = pipeline('image-object-detection', 'IoT-Edge/Fire_Detection', model_revision='v1.1.20')\n",
    "output = fire_detection('./img/fire.jpg')\n",
    "\n",
    "# the output contains boxes, scores and labels\n",
    "print(output)"
   ]
  }
 ],
 "metadata": {
  "kernelspec": {
   "display_name": "Python 3",
   "language": "python",
   "name": "python3"
  },
  "language_info": {
   "codemirror_mode": {
    "name": "ipython",
    "version": 2
   },
   "file_extension": ".py",
   "mimetype": "text/x-python",
   "name": "python",
   "nbconvert_exporter": "python",
   "pygments_lexer": "ipython2",
   "version": "2.7.6"
  }
 },
 "nbformat": 4,
 "nbformat_minor": 5
}
