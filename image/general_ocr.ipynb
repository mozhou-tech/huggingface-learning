{
 "cells": [
  {
   "cell_type": "markdown",
   "source": [
    "# 支持通用场景、自然场景、手写场景、文档场景、车牌场景的文字识别\n",
    "damo/cv_ocr-text-spotting\n",
    "https://modelscope.cn/studios/damo/cv_ocr-text-spotting/summary"
   ],
   "metadata": {
    "collapsed": false
   },
   "id": "52c74ee5bea682df"
  }
 ],
 "metadata": {
  "kernelspec": {
   "display_name": "Python 3",
   "language": "python",
   "name": "python3"
  },
  "language_info": {
   "codemirror_mode": {
    "name": "ipython",
    "version": 2
   },
   "file_extension": ".py",
   "mimetype": "text/x-python",
   "name": "python",
   "nbconvert_exporter": "python",
   "pygments_lexer": "ipython2",
   "version": "2.7.6"
  }
 },
 "nbformat": 4,
 "nbformat_minor": 5
}
