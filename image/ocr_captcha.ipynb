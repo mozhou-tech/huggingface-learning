{
 "cells": [
  {
   "cell_type": "code",
   "execution_count": null,
   "id": "initial_id",
   "metadata": {
    "collapsed": true
   },
   "outputs": [],
   "source": [
    "from modelscope.pipelines import pipeline\n",
    "from modelscope.utils.constant import Tasks\n",
    "import gradio as gr\n",
    "import os\n",
    "\n",
    "\n",
    "class xiaolv_ocr_model():\n",
    "\n",
    "    def __init__(self):\n",
    "        model_small = r\"./output_small\"\n",
    "        self.ocr_recognition_small = pipeline(Tasks.ocr_recognition, model=model_small)\n",
    "\n",
    "    def run(self,pict_path,moshi = \"small\", context=[]):\n",
    "        pict_path = pict_path.name\n",
    "        context = [pict_path]\n",
    "        result = self.ocr_recognition_small(pict_path)\n",
    "        context += [str(result['text'][0])]\n",
    "        responses = [(u, b) for u, b in zip(context[::2], context[1::2])]\n",
    "        print(f\"识别的结果为：{result}\")\n",
    "        os.remove(pict_path)\n",
    "        return responses,context\n",
    "\n",
    "\n",
    "\n",
    "\n",
    "if __name__ == \"__main__\":\n",
    "    pict_path = r\"C:\\Users\\admin\\Desktop\\图片识别测试\\企业微信截图_16895911221007.png\"\n",
    "    ocr_model = xiaolv_ocr_model()\n",
    "    # ocr_model.run(pict_path)"
   ]
  }
 ],
 "metadata": {
  "kernelspec": {
   "display_name": "Python 3",
   "language": "python",
   "name": "python3"
  },
  "language_info": {
   "codemirror_mode": {
    "name": "ipython",
    "version": 2
   },
   "file_extension": ".py",
   "mimetype": "text/x-python",
   "name": "python",
   "nbconvert_exporter": "python",
   "pygments_lexer": "ipython2",
   "version": "2.7.6"
  }
 },
 "nbformat": 4,
 "nbformat_minor": 5
}
