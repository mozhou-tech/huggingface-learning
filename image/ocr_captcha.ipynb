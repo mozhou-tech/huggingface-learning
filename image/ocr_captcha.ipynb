{
 "cells": [
  {
   "cell_type": "markdown",
   "source": [
    "# 验证码识别\n",
    "https://modelscope.cn/models/xiaolv/ocr_small/summary\n"
   ],
   "metadata": {
    "collapsed": false
   },
   "id": "8d7cc74095a2ab64"
  },
  {
   "cell_type": "code",
   "execution_count": 6,
   "outputs": [
    {
     "name": "stderr",
     "output_type": "stream",
     "text": [
      "2023-11-30 17:27:34,093 - modelscope - WARNING - Model revision not specified, use revision: v1.0.0\n",
      "2023-11-30 17:27:35,802 - modelscope - INFO - initiate model from /Users/mozhou/.cache/modelscope/hub/xiaolv/ocr_small\n",
      "2023-11-30 17:27:35,805 - modelscope - INFO - initiate model from location /Users/mozhou/.cache/modelscope/hub/xiaolv/ocr_small.\n",
      "2023-11-30 17:27:35,811 - modelscope - INFO - initialize model from /Users/mozhou/.cache/modelscope/hub/xiaolv/ocr_small\n",
      "2023-11-30 17:27:35,937 - modelscope - INFO - cuda is not available, using cpu instead.\n",
      "2023-11-30 17:27:35,937 - modelscope - INFO - loading model from dir /Users/mozhou/.cache/modelscope/hub/xiaolv/ocr_small\n",
      "2023-11-30 17:27:35,941 - modelscope - INFO - loading model done\n"
     ]
    },
    {
     "name": "stdout",
     "output_type": "stream",
     "text": [
      "识别的结果为：{'text': ['ltgj']}\n"
     ]
    }
   ],
   "source": [
    "import os\n",
    "\n",
    "from modelscope.pipelines import pipeline\n",
    "from modelscope.utils.constant import Tasks\n",
    "\n",
    "\n",
    "class xiaolv_ocr_model():\n",
    "\n",
    "    def __init__(self):\n",
    "        self.ocr_recognition_small = pipeline(Tasks.ocr_recognition, model=\"xiaolv/ocr_small\")\n",
    "\n",
    "    def run(self, pict_path):\n",
    "        context = [pict_path]\n",
    "        result = self.ocr_recognition_small(pict_path)\n",
    "        context += [str(result['text'][0])]\n",
    "        responses = [(u, b) for u, b in zip(context[::2], context[1::2])]\n",
    "        print(f\"识别的结果为：{result}\")\n",
    "        return responses, context\n",
    "\n",
    "\n",
    "if __name__ == \"__main__\":\n",
    "    pict_path = r\"/Users/mozhou/WorkSpace/GitHub/huggingface-learning/image/img/captcha.png\"\n",
    "    ocr_model = xiaolv_ocr_model()\n",
    "    ocr_model.run(pict_path)"
   ],
   "metadata": {
    "collapsed": false,
    "ExecuteTime": {
     "end_time": "2023-11-30T09:27:36.298606Z",
     "start_time": "2023-11-30T09:27:33.194701Z"
    }
   },
   "id": "initial_id"
  },
  {
   "cell_type": "code",
   "execution_count": null,
   "outputs": [],
   "source": [],
   "metadata": {
    "collapsed": false
   },
   "id": "a48d285d9b8b19fc"
  }
 ],
 "metadata": {
  "kernelspec": {
   "display_name": "Python 3",
   "language": "python",
   "name": "python3"
  },
  "language_info": {
   "codemirror_mode": {
    "name": "ipython",
    "version": 2
   },
   "file_extension": ".py",
   "mimetype": "text/x-python",
   "name": "python",
   "nbconvert_exporter": "python",
   "pygments_lexer": "ipython2",
   "version": "2.7.6"
  }
 },
 "nbformat": 4,
 "nbformat_minor": 5
}
