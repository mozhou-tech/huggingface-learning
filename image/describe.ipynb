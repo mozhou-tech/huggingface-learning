{
 "cells": [
  {
   "cell_type": "code",
   "execution_count": null,
   "id": "initial_id",
   "metadata": {
    "collapsed": true,
    "is_executing": true,
    "ExecuteTime": {
     "start_time": "2023-11-30T08:25:09.391480Z"
    }
   },
   "outputs": [
    {
     "name": "stderr",
     "output_type": "stream",
     "text": [
      "2023-11-30 16:25:13,459 - modelscope - INFO - PyTorch version 2.1.1 Found.\n",
      "2023-11-30 16:25:13,467 - modelscope - INFO - Loading ast index from /Users/mozhou/.cache/modelscope/ast_indexer\n",
      "2023-11-30 16:25:13,473 - modelscope - INFO - No valid ast index found from /Users/mozhou/.cache/modelscope/ast_indexer, generating ast index from prebuilt!\n",
      "2023-11-30 16:25:13,591 - modelscope - INFO - Loading done! Current index file version is 1.9.5, with md5 82991d019ad19ec9828cbbc8261a746e and a total number of 945 components indexed\n",
      "2023-11-30 16:25:17,321 - modelscope - WARNING - Model revision not specified, use revision: v1.0.1\n",
      "Downloading: 100%|██████████| 766/766 [00:00<00:00, 3.35MB/s]\n",
      "Downloading: 100%|██████████| 644/644 [00:00<00:00, 4.71MB/s]\n",
      "Downloading: 100%|██████████| 1.32k/1.32k [00:00<00:00, 11.3MB/s]\n",
      "Downloading:  36%|███▌      | 640M/1.75G [11:59<18:07, 1.11MB/s] "
     ]
    }
   ],
   "source": [
    "from modelscope.pipelines import pipeline\n",
    "from modelscope.utils.constant import Tasks\n",
    "\n",
    "model_id = 'damo/mplug_image-captioning_coco_base_zh'\n",
    "input_caption = 'https://alice-open.oss-cn-zhangjiakou.aliyuncs.com/mPLUG/image_captioning.png'\n",
    "\n",
    "pipeline_caption = pipeline(Tasks.image_captioning, model=model_id)\n",
    "result = pipeline_caption(input_caption)\n",
    "print(result)"
   ]
  },
  {
   "cell_type": "code",
   "execution_count": null,
   "outputs": [],
   "source": [],
   "metadata": {
    "collapsed": false
   },
   "id": "d8e2b3337f73dd9"
  }
 ],
 "metadata": {
  "kernelspec": {
   "display_name": "Python 3",
   "language": "python",
   "name": "python3"
  },
  "language_info": {
   "codemirror_mode": {
    "name": "ipython",
    "version": 2
   },
   "file_extension": ".py",
   "mimetype": "text/x-python",
   "name": "python",
   "nbconvert_exporter": "python",
   "pygments_lexer": "ipython2",
   "version": "2.7.6"
  }
 },
 "nbformat": 4,
 "nbformat_minor": 5
}
