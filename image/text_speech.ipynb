{
 "cells": [
  {
   "cell_type": "markdown",
   "source": [
    "https://huggingface.co/coqui/XTTS-v2\n",
    "\n",
    "支持23种语言。"
   ],
   "metadata": {
    "collapsed": false
   },
   "id": "b058b59e9442adfa"
  },
  {
   "cell_type": "code",
   "execution_count": null,
   "outputs": [
    {
     "name": "stdout",
     "output_type": "stream",
     "text": [
      " > You must agree to the terms of service to use this model.\n",
      " | > Please see the terms of service at https://coqui.ai/cpml.txt\n",
      " | > \"I have read, understood and agreed to the Terms and Conditions.\" - [y/n]\n",
      " > Downloading model to /Users/mozhou/Library/Application Support/tts/tts_models--multilingual--multi-dataset--xtts_v2\n"
     ]
    },
    {
     "name": "stderr",
     "output_type": "stream",
     "text": [
      "  7%|▋         | 130M/1.87G [01:36<18:56, 1.53MiB/s]    "
     ]
    }
   ],
   "source": [
    "from TTS.api import TTS\n",
    "tts = TTS(\"tts_models/multilingual/multi-dataset/xtts_v2\", gpu=False)\n",
    "\n",
    "# generate speech by cloning a voice using default settings\n",
    "tts.tts_to_file(text=\"你好\",\n",
    "                file_path=\"output.wav\",\n",
    "                speaker_wav=\"./speaker.wav\",\n",
    "                language=\"zh-cn\"\n",
    "                )"
   ],
   "metadata": {
    "collapsed": false,
    "is_executing": true,
    "ExecuteTime": {
     "start_time": "2023-12-01T06:01:51.574908Z"
    }
   },
   "id": "e6d8006042120bc4"
  },
  {
   "cell_type": "code",
   "execution_count": null,
   "outputs": [],
   "source": [],
   "metadata": {
    "collapsed": false
   },
   "id": "6e3cb717a081e0ce"
  }
 ],
 "metadata": {
  "kernelspec": {
   "display_name": "Python 3",
   "language": "python",
   "name": "python3"
  },
  "language_info": {
   "codemirror_mode": {
    "name": "ipython",
    "version": 2
   },
   "file_extension": ".py",
   "mimetype": "text/x-python",
   "name": "python",
   "nbconvert_exporter": "python",
   "pygments_lexer": "ipython2",
   "version": "2.7.6"
  }
 },
 "nbformat": 4,
 "nbformat_minor": 5
}
